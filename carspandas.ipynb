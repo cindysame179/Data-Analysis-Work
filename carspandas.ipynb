{
  "nbformat": 4,
  "nbformat_minor": 0,
  "metadata": {
    "colab": {
      "name": "carspandas.ipynb",
      "provenance": [],
      "collapsed_sections": [],
      "authorship_tag": "ABX9TyMm8kcquTgNRyMDWMWsWL0h",
      "include_colab_link": true
    },
    "kernelspec": {
      "name": "python3",
      "display_name": "Python 3"
    },
    "language_info": {
      "name": "python"
    }
  },
  "cells": [
    {
      "cell_type": "markdown",
      "metadata": {
        "id": "view-in-github",
        "colab_type": "text"
      },
      "source": [
        "<a href=\"https://colab.research.google.com/github/cindysame179/Data-Analytics-Work/blob/main/carspandas.ipynb\" target=\"_parent\"><img src=\"https://colab.research.google.com/assets/colab-badge.svg\" alt=\"Open In Colab\"/></a>"
      ]
    },
    {
      "cell_type": "markdown",
      "source": [
        "#Cindy Juan Homework 2\n",
        "#**1**\n",
        "Takes the raw data set from github and labels the corresponding headers"
      ],
      "metadata": {
        "id": "Q86RombF2VWo"
      }
    },
    {
      "cell_type": "code",
      "execution_count": 2,
      "metadata": {
        "colab": {
          "base_uri": "https://localhost:8080/",
          "height": 232
        },
        "id": "Ho_X0h99kbe6",
        "outputId": "611cdb0f-d58a-420b-d587-54eba8f947c6"
      },
      "outputs": [
        {
          "output_type": "execute_result",
          "data": {
            "text/plain": [
              "   price Maintenance cost Number of doors Number of passengers  \\\n",
              "0   high             high               2                    4   \n",
              "1   high             high               4                 more   \n",
              "2   high             high               4                 more   \n",
              "3   high              low               2                 more   \n",
              "4  vhigh              low               3                    2   \n",
              "\n",
              "  Luggage capacity safety rating Classification of vehicle  \n",
              "0              med           low                     unacc  \n",
              "1            small          high                       acc  \n",
              "2              big           low                     unacc  \n",
              "3              big          high                       acc  \n",
              "4              med           med                     unacc  "
            ],
            "text/html": [
              "\n",
              "  <div id=\"df-f53ed50e-2801-4f78-970c-7c6df7aa0781\">\n",
              "    <div class=\"colab-df-container\">\n",
              "      <div>\n",
              "<style scoped>\n",
              "    .dataframe tbody tr th:only-of-type {\n",
              "        vertical-align: middle;\n",
              "    }\n",
              "\n",
              "    .dataframe tbody tr th {\n",
              "        vertical-align: top;\n",
              "    }\n",
              "\n",
              "    .dataframe thead th {\n",
              "        text-align: right;\n",
              "    }\n",
              "</style>\n",
              "<table border=\"1\" class=\"dataframe\">\n",
              "  <thead>\n",
              "    <tr style=\"text-align: right;\">\n",
              "      <th></th>\n",
              "      <th>price</th>\n",
              "      <th>Maintenance cost</th>\n",
              "      <th>Number of doors</th>\n",
              "      <th>Number of passengers</th>\n",
              "      <th>Luggage capacity</th>\n",
              "      <th>safety rating</th>\n",
              "      <th>Classification of vehicle</th>\n",
              "    </tr>\n",
              "  </thead>\n",
              "  <tbody>\n",
              "    <tr>\n",
              "      <th>0</th>\n",
              "      <td>high</td>\n",
              "      <td>high</td>\n",
              "      <td>2</td>\n",
              "      <td>4</td>\n",
              "      <td>med</td>\n",
              "      <td>low</td>\n",
              "      <td>unacc</td>\n",
              "    </tr>\n",
              "    <tr>\n",
              "      <th>1</th>\n",
              "      <td>high</td>\n",
              "      <td>high</td>\n",
              "      <td>4</td>\n",
              "      <td>more</td>\n",
              "      <td>small</td>\n",
              "      <td>high</td>\n",
              "      <td>acc</td>\n",
              "    </tr>\n",
              "    <tr>\n",
              "      <th>2</th>\n",
              "      <td>high</td>\n",
              "      <td>high</td>\n",
              "      <td>4</td>\n",
              "      <td>more</td>\n",
              "      <td>big</td>\n",
              "      <td>low</td>\n",
              "      <td>unacc</td>\n",
              "    </tr>\n",
              "    <tr>\n",
              "      <th>3</th>\n",
              "      <td>high</td>\n",
              "      <td>low</td>\n",
              "      <td>2</td>\n",
              "      <td>more</td>\n",
              "      <td>big</td>\n",
              "      <td>high</td>\n",
              "      <td>acc</td>\n",
              "    </tr>\n",
              "    <tr>\n",
              "      <th>4</th>\n",
              "      <td>vhigh</td>\n",
              "      <td>low</td>\n",
              "      <td>3</td>\n",
              "      <td>2</td>\n",
              "      <td>med</td>\n",
              "      <td>med</td>\n",
              "      <td>unacc</td>\n",
              "    </tr>\n",
              "  </tbody>\n",
              "</table>\n",
              "</div>\n",
              "      <button class=\"colab-df-convert\" onclick=\"convertToInteractive('df-f53ed50e-2801-4f78-970c-7c6df7aa0781')\"\n",
              "              title=\"Convert this dataframe to an interactive table.\"\n",
              "              style=\"display:none;\">\n",
              "        \n",
              "  <svg xmlns=\"http://www.w3.org/2000/svg\" height=\"24px\"viewBox=\"0 0 24 24\"\n",
              "       width=\"24px\">\n",
              "    <path d=\"M0 0h24v24H0V0z\" fill=\"none\"/>\n",
              "    <path d=\"M18.56 5.44l.94 2.06.94-2.06 2.06-.94-2.06-.94-.94-2.06-.94 2.06-2.06.94zm-11 1L8.5 8.5l.94-2.06 2.06-.94-2.06-.94L8.5 2.5l-.94 2.06-2.06.94zm10 10l.94 2.06.94-2.06 2.06-.94-2.06-.94-.94-2.06-.94 2.06-2.06.94z\"/><path d=\"M17.41 7.96l-1.37-1.37c-.4-.4-.92-.59-1.43-.59-.52 0-1.04.2-1.43.59L10.3 9.45l-7.72 7.72c-.78.78-.78 2.05 0 2.83L4 21.41c.39.39.9.59 1.41.59.51 0 1.02-.2 1.41-.59l7.78-7.78 2.81-2.81c.8-.78.8-2.07 0-2.86zM5.41 20L4 18.59l7.72-7.72 1.47 1.35L5.41 20z\"/>\n",
              "  </svg>\n",
              "      </button>\n",
              "      \n",
              "  <style>\n",
              "    .colab-df-container {\n",
              "      display:flex;\n",
              "      flex-wrap:wrap;\n",
              "      gap: 12px;\n",
              "    }\n",
              "\n",
              "    .colab-df-convert {\n",
              "      background-color: #E8F0FE;\n",
              "      border: none;\n",
              "      border-radius: 50%;\n",
              "      cursor: pointer;\n",
              "      display: none;\n",
              "      fill: #1967D2;\n",
              "      height: 32px;\n",
              "      padding: 0 0 0 0;\n",
              "      width: 32px;\n",
              "    }\n",
              "\n",
              "    .colab-df-convert:hover {\n",
              "      background-color: #E2EBFA;\n",
              "      box-shadow: 0px 1px 2px rgba(60, 64, 67, 0.3), 0px 1px 3px 1px rgba(60, 64, 67, 0.15);\n",
              "      fill: #174EA6;\n",
              "    }\n",
              "\n",
              "    [theme=dark] .colab-df-convert {\n",
              "      background-color: #3B4455;\n",
              "      fill: #D2E3FC;\n",
              "    }\n",
              "\n",
              "    [theme=dark] .colab-df-convert:hover {\n",
              "      background-color: #434B5C;\n",
              "      box-shadow: 0px 1px 3px 1px rgba(0, 0, 0, 0.15);\n",
              "      filter: drop-shadow(0px 1px 2px rgba(0, 0, 0, 0.3));\n",
              "      fill: #FFFFFF;\n",
              "    }\n",
              "  </style>\n",
              "\n",
              "      <script>\n",
              "        const buttonEl =\n",
              "          document.querySelector('#df-f53ed50e-2801-4f78-970c-7c6df7aa0781 button.colab-df-convert');\n",
              "        buttonEl.style.display =\n",
              "          google.colab.kernel.accessAllowed ? 'block' : 'none';\n",
              "\n",
              "        async function convertToInteractive(key) {\n",
              "          const element = document.querySelector('#df-f53ed50e-2801-4f78-970c-7c6df7aa0781');\n",
              "          const dataTable =\n",
              "            await google.colab.kernel.invokeFunction('convertToInteractive',\n",
              "                                                     [key], {});\n",
              "          if (!dataTable) return;\n",
              "\n",
              "          const docLinkHtml = 'Like what you see? Visit the ' +\n",
              "            '<a target=\"_blank\" href=https://colab.research.google.com/notebooks/data_table.ipynb>data table notebook</a>'\n",
              "            + ' to learn more about interactive tables.';\n",
              "          element.innerHTML = '';\n",
              "          dataTable['output_type'] = 'display_data';\n",
              "          await google.colab.output.renderOutput(dataTable, element);\n",
              "          const docLink = document.createElement('div');\n",
              "          docLink.innerHTML = docLinkHtml;\n",
              "          element.appendChild(docLink);\n",
              "        }\n",
              "      </script>\n",
              "    </div>\n",
              "  </div>\n",
              "  "
            ]
          },
          "metadata": {},
          "execution_count": 2
        }
      ],
      "source": [
        "import pandas as pd\n",
        "#(1)Takes the raw data set from github and labels the corresponding headers\n",
        "df = pd.read_csv('https://raw.githubusercontent.com/cindysame179/Data-Analytics-Work/main/cars-sample35.csv', names = ['price','Maintenance cost','Number of doors','Number of passengers','Luggage capacity', 'safety rating', 'Classification of vehicle'])\n",
        "df.head()\n"
      ]
    },
    {
      "cell_type": "markdown",
      "source": [
        "#**2**\n",
        "Extracts each of the seven attributes into their own individual lists"
      ],
      "metadata": {
        "id": "oQFQBib42ik_"
      }
    },
    {
      "cell_type": "code",
      "source": [
        "\n",
        "#list of prices\n",
        "priceL = df.iloc[:,0].copy()\n",
        "\n",
        "#list of Maintenance Cost\n",
        "MCL = df.iloc[:,1].copy()\n",
        "\n",
        "#list of Number of Doors\n",
        "doorsL = df.iloc[:,2].copy()\n",
        "\n",
        "#list of Number of Passengers\n",
        "passengerL = df.iloc[:,3].copy()\n",
        "\n",
        "#list of Luggage Capacity\n",
        "luggageL = df.iloc[:,4].copy()\n",
        "\n",
        "#list of Safety Rating\n",
        "SRL = df.iloc[:,5].copy()\n",
        "\n",
        "#list of Classification of vehicle\n",
        "classificationL = df.iloc[:,6].copy()\n",
        "\n",
        "priceL.head()"
      ],
      "metadata": {
        "colab": {
          "base_uri": "https://localhost:8080/"
        },
        "id": "u7ji-eqZS4p_",
        "outputId": "bdc09e51-f413-478a-9ec1-c56e06889eeb"
      },
      "execution_count": 5,
      "outputs": [
        {
          "output_type": "execute_result",
          "data": {
            "text/plain": [
              "0     high\n",
              "1     high\n",
              "2     high\n",
              "3     high\n",
              "4    vhigh\n",
              "Name: price, dtype: object"
            ]
          },
          "metadata": {},
          "execution_count": 5
        }
      ]
    },
    {
      "cell_type": "markdown",
      "source": [
        "#**3**\n",
        "Finds the index values of each automobile that has a price rating of 'med' without using list comprehension. Resulting indices are placed in the list PriceMedL "
      ],
      "metadata": {
        "id": "4mec1mKc3MPX"
      }
    },
    {
      "cell_type": "code",
      "source": [
        "PriceMedL = []\n",
        "for i in range(len(priceL)):\n",
        "  if priceL[i] == 'med':\n",
        "    PriceMedL.append(i)\n",
        "print(PriceMedL)\n"
      ],
      "metadata": {
        "colab": {
          "base_uri": "https://localhost:8080/"
        },
        "id": "z8SwXqhjrV42",
        "outputId": "02e4a9b2-cdb6-4f64-883f-d971718fdd3a"
      },
      "execution_count": 47,
      "outputs": [
        {
          "output_type": "stream",
          "name": "stdout",
          "text": [
            "[6, 16, 20, 23, 26, 29]\n"
          ]
        }
      ]
    },
    {
      "cell_type": "markdown",
      "source": [
        "#**4**\n",
        "Finds the Number of Passengers value for the automobiles that have a price value of 'med' without using list comprehension.\n",
        "Results are placed into the list PassengerMedL."
      ],
      "metadata": {
        "id": "-p8Dafjs3iQl"
      }
    },
    {
      "cell_type": "code",
      "source": [
        "PassengerMedL = []\n",
        "for i in PriceMedL:\n",
        "  PassengerMedL.append(passengerL[i])\n",
        "print(PassengerMedL)"
      ],
      "metadata": {
        "colab": {
          "base_uri": "https://localhost:8080/"
        },
        "id": "0DW5UjFWqiIF",
        "outputId": "95df5809-afd0-42e6-f759-a7f71fb4a054"
      },
      "execution_count": 48,
      "outputs": [
        {
          "output_type": "stream",
          "name": "stdout",
          "text": [
            "['more', '2', '2', '2', '4', '2']\n"
          ]
        }
      ]
    },
    {
      "cell_type": "markdown",
      "source": [
        "#**5**\n",
        "Finds the index value for each Automobile that has a price value of 'high' and maintenance value that is not 'low' without using list comprehension. Results are place in the HighNotLow list."
      ],
      "metadata": {
        "id": "jmo8GK_u39Lu"
      }
    },
    {
      "cell_type": "code",
      "source": [
        "carsub = df.iloc[:,[0,1]].copy()\n",
        "HighNotLow = []\n",
        "for i in range(len(carsub)):\n",
        "  if (carsub['price'][i] == 'high') & (carsub['Maintenance cost'][i] != 'low'):\n",
        "    HighNotLow.append(i)\n",
        "print(HighNotLow)"
      ],
      "metadata": {
        "colab": {
          "base_uri": "https://localhost:8080/"
        },
        "id": "zLxgtgzftJq8",
        "outputId": "006e0527-a585-4649-cdd6-d1c01ac88460"
      },
      "execution_count": 49,
      "outputs": [
        {
          "output_type": "stream",
          "name": "stdout",
          "text": [
            "[0, 1, 2, 27, 31]\n"
          ]
        }
      ]
    },
    {
      "cell_type": "markdown",
      "source": [
        "#**6**\n",
        "Finds the index values of each automobile that has a price rating of 'med' using list comprehension. Resulting indices are placed in the list PriceMedLC "
      ],
      "metadata": {
        "id": "yIhvPKwL4Q_i"
      }
    },
    {
      "cell_type": "code",
      "source": [
        "#(6)\n",
        "PriceMedLC = [i for i in range(len(priceL)) if priceL[i]=='med']\n",
        "print(PriceMedLC)"
      ],
      "metadata": {
        "colab": {
          "base_uri": "https://localhost:8080/"
        },
        "id": "ARTAD6tLv_El",
        "outputId": "e1fb7e13-f1ed-4c9b-e1ac-69bfd20ab889"
      },
      "execution_count": 55,
      "outputs": [
        {
          "output_type": "stream",
          "name": "stdout",
          "text": [
            "[6, 16, 20, 23, 26, 29]\n"
          ]
        }
      ]
    },
    {
      "cell_type": "markdown",
      "source": [
        "#**7**\n",
        "Finds the Number of Passengers value for the automobiles that have a price value of 'med' using list comprehension.\n",
        "Results are placed into the list PassengerMedLC."
      ],
      "metadata": {
        "id": "_YibsKBY4Xyk"
      }
    },
    {
      "cell_type": "code",
      "source": [
        "#(7)\n",
        "PassengerMedLC = [passengerL[i] for i in PriceMedL]\n",
        "print(PassengerMedLC)"
      ],
      "metadata": {
        "colab": {
          "base_uri": "https://localhost:8080/"
        },
        "id": "jsNDMrEswkqO",
        "outputId": "dccb4f08-1620-40ca-b980-c3e337f3dc56"
      },
      "execution_count": 56,
      "outputs": [
        {
          "output_type": "stream",
          "name": "stdout",
          "text": [
            "['more', '2', '2', '2', '4', '2']\n"
          ]
        }
      ]
    },
    {
      "cell_type": "markdown",
      "source": [
        "#**8**\n",
        "Finds the index value for each Automobile that has a price value of 'high' and maintenance value that is not 'low' using list comprehension. Utilizes the previously created sublist carsub. Results are place in the HighNotLowLC list."
      ],
      "metadata": {
        "id": "8EtpI2I24YP4"
      }
    },
    {
      "cell_type": "code",
      "source": [
        "#(8)\n",
        "HighNotLowLC = [i for i in range(len(carsub)) if (carsub['price'][i] == 'high') & (carsub['Maintenance cost'][i] != 'low')]\n",
        "print(HighNotLowLC)"
      ],
      "metadata": {
        "colab": {
          "base_uri": "https://localhost:8080/"
        },
        "id": "geP-FGD1xPFO",
        "outputId": "3aed016c-0627-46cb-8abd-cdb914d2f321"
      },
      "execution_count": 54,
      "outputs": [
        {
          "output_type": "stream",
          "name": "stdout",
          "text": [
            "[0, 1, 2, 27, 31]\n"
          ]
        }
      ]
    },
    {
      "cell_type": "markdown",
      "source": [
        "#**Nested List Comprehension**\n",
        "\n",
        "Extracts each individual element of the component lists contained within nlist into the new list 'list2' using a nested list comprehension"
      ],
      "metadata": {
        "id": "wgxqwFQx4srH"
      }
    },
    {
      "cell_type": "code",
      "source": [
        "#Nested List Comprehension\n",
        "nlist = [ [1, 2, 3], ['A', 'B', 'C'], [4, 5], ['D', 'E'] ]\n",
        "list2 = [j for i in nlist for j in i]\n",
        "print(list2)"
      ],
      "metadata": {
        "colab": {
          "base_uri": "https://localhost:8080/"
        },
        "id": "9_97IdNwxetP",
        "outputId": "5f904d1f-6514-4730-eade-cf3c1fccff7c"
      },
      "execution_count": 53,
      "outputs": [
        {
          "output_type": "stream",
          "name": "stdout",
          "text": [
            "[1, 2, 3, 'A', 'B', 'C', 4, 5, 'D', 'E']\n"
          ]
        }
      ]
    }
  ]
}