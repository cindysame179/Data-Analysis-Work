{
  "nbformat": 4,
  "nbformat_minor": 0,
  "metadata": {
    "colab": {
      "name": "NumpyHomework.ipynb",
      "provenance": []
    },
    "kernelspec": {
      "name": "python3",
      "display_name": "Python 3"
    },
    "language_info": {
      "name": "python"
    }
  },
  "cells": [
    {
      "cell_type": "code",
      "source": [
        "import pandas as pd\n",
        "import numpy as np"
      ],
      "metadata": {
        "id": "D4maFBg4U2P1"
      },
      "execution_count": 2,
      "outputs": []
    },
    {
      "cell_type": "markdown",
      "source": [
        "#**Problem 1**\n",
        "Write a Python/NumPy code block that finds the distinct/unique common items between these two\n",
        "arrays:  \n",
        "**a = np.array([1, 2, 3, 2, 3, 4, 3, 4, 5, 6])  \n",
        "b = np.array([7, 2, 10, 2, 7, 4, 9, 4, 9, 8])**  \n",
        "Your output should contain only the distinct overlapping values. For example, if a 2 is found in both array a and array b,\n",
        "your output should contain only one 2 even if array a contains more than one 2 within it."
      ],
      "metadata": {
        "id": "0IFXIVJDZ15R"
      }
    },
    {
      "cell_type": "code",
      "source": [
        "a = np.array([1, 2, 3, 2, 3, 4, 3, 4, 5, 6])\n",
        "b = np.array([7, 2, 10, 2, 7, 4, 9, 4, 9, 8])\n",
        "\n",
        "unique = np.intersect1d(a,b)\n",
        "print (unique)"
      ],
      "metadata": {
        "colab": {
          "base_uri": "https://localhost:8080/"
        },
        "id": "3DtYlrdAYmbL",
        "outputId": "b958e33b-1bef-44f0-dc33-a4ee1ec1b0ec"
      },
      "execution_count": null,
      "outputs": [
        {
          "output_type": "stream",
          "name": "stdout",
          "text": [
            "[2 4]\n"
          ]
        }
      ]
    },
    {
      "cell_type": "markdown",
      "source": [
        "#**Problem 2**\n",
        "Create the following 5x3 array using knowledge you have of Python’s / NumPy’s sequencing functionality\n",
        "so that you do not need to explicitly key in every integer value.  \n",
        "1   6    11  \n",
        "2   7    12  \n",
        "3   8    13  \n",
        "4   9    14  \n",
        "5   10  15"
      ],
      "metadata": {
        "id": "Ox2SeP55cC7m"
      }
    },
    {
      "cell_type": "code",
      "source": [
        "a = np.arange(1,16).reshape(3,5).T\n",
        "print(a)"
      ],
      "metadata": {
        "id": "8D_g_7mFcPrf",
        "colab": {
          "base_uri": "https://localhost:8080/"
        },
        "outputId": "c49be978-0639-42bf-fb7e-6108d6912410"
      },
      "execution_count": 3,
      "outputs": [
        {
          "output_type": "stream",
          "name": "stdout",
          "text": [
            "[[ 1  6 11]\n",
            " [ 2  7 12]\n",
            " [ 3  8 13]\n",
            " [ 4  9 14]\n",
            " [ 5 10 15]]\n"
          ]
        }
      ]
    },
    {
      "cell_type": "markdown",
      "source": [
        "#**Problem 3**\n",
        "The process of transforming a multidimensional array into a unidimensional array is referred to as “flattening”. Transform the 5x3 array shown above in Problem 2 into a unidimensional array such that the sequence of values contained within the array is as follows: 1, 2, 3, 4, 5, 6, 7, 8, 9, 10, 11, 12, 13, 14, 15\n"
      ],
      "metadata": {
        "id": "K2XcWG5wUIzd"
      }
    },
    {
      "cell_type": "code",
      "source": [
        "b = a.flatten('f')\n",
        "print(b)"
      ],
      "metadata": {
        "colab": {
          "base_uri": "https://localhost:8080/"
        },
        "id": "VSqoqa-IUXao",
        "outputId": "50980fc3-9ff0-4732-929e-2886fd6825a2"
      },
      "execution_count": null,
      "outputs": [
        {
          "output_type": "stream",
          "name": "stdout",
          "text": [
            "[ 1  2  3  4  5  6  7  8  9 10 11 12 13 14 15]\n"
          ]
        }
      ]
    },
    {
      "cell_type": "markdown",
      "source": [
        "#**Problem 4**\n",
        "Transform the 2-D array shown in Problem 2 into a 3 dimensional array such that the first column becomes the first dimension of the 3-D array, the second column becomes the second dimension of the 3-D array, and the third column becomes the third dimension of the 3-D array.\n"
      ],
      "metadata": {
        "id": "VHdFg5e6VeQ3"
      }
    },
    {
      "cell_type": "code",
      "source": [
        "b = a.reshape((5,5,5))\n",
        "print(b)"
      ],
      "metadata": {
        "colab": {
          "base_uri": "https://localhost:8080/",
          "height": 182
        },
        "id": "4gKGWEYMWUpN",
        "outputId": "686520dd-d8bb-4354-9c5e-ed3830a39f1b"
      },
      "execution_count": 4,
      "outputs": [
        {
          "output_type": "error",
          "ename": "ValueError",
          "evalue": "ignored",
          "traceback": [
            "\u001b[0;31m---------------------------------------------------------------------------\u001b[0m",
            "\u001b[0;31mValueError\u001b[0m                                Traceback (most recent call last)",
            "\u001b[0;32m<ipython-input-4-b4cd002485ad>\u001b[0m in \u001b[0;36m<module>\u001b[0;34m()\u001b[0m\n\u001b[0;32m----> 1\u001b[0;31m \u001b[0mb\u001b[0m \u001b[0;34m=\u001b[0m \u001b[0ma\u001b[0m\u001b[0;34m.\u001b[0m\u001b[0mreshape\u001b[0m\u001b[0;34m(\u001b[0m\u001b[0;34m(\u001b[0m\u001b[0;36m5\u001b[0m\u001b[0;34m,\u001b[0m\u001b[0;36m5\u001b[0m\u001b[0;34m,\u001b[0m\u001b[0;36m5\u001b[0m\u001b[0;34m)\u001b[0m\u001b[0;34m)\u001b[0m\u001b[0;34m\u001b[0m\u001b[0;34m\u001b[0m\u001b[0m\n\u001b[0m\u001b[1;32m      2\u001b[0m \u001b[0mprint\u001b[0m\u001b[0;34m(\u001b[0m\u001b[0mb\u001b[0m\u001b[0;34m)\u001b[0m\u001b[0;34m\u001b[0m\u001b[0;34m\u001b[0m\u001b[0m\n",
            "\u001b[0;31mValueError\u001b[0m: cannot reshape array of size 15 into shape (5,5,5)"
          ]
        }
      ]
    },
    {
      "cell_type": "markdown",
      "source": [
        "#**Problem 5**\n",
        "Transform the 3-D array you created in Problem 4 back to the 2-dimensional format shown in Problem 2."
      ],
      "metadata": {
        "id": "0m5cusFXViUO"
      }
    },
    {
      "cell_type": "markdown",
      "source": [
        "#**Problem 6**\n",
        "You are given the following two arrays:  \n",
        "**a = np.array([12, 5, 7, 15, 3, 1, 8])**  \n",
        "**b = np.array([14, 6, 3, 11, 19, 12, 5])**  \n",
        "Write a Python/Numpy code block that removes from array a any items that are also present in array b.\n"
      ],
      "metadata": {
        "id": "ONK7h2vZVn76"
      }
    },
    {
      "cell_type": "code",
      "source": [
        "a = np.array([12, 5, 7, 15, 3, 1, 8])\n",
        "b = np.array([14, 6, 3, 11, 19, 12, 5])\n",
        "\n",
        "c = np.array ([i for i in b if i not in a])\n",
        "print(c)"
      ],
      "metadata": {
        "colab": {
          "base_uri": "https://localhost:8080/"
        },
        "id": "uHVg0zzAi3do",
        "outputId": "f00521c7-86f7-40b4-eef2-d533b7a8a457"
      },
      "execution_count": null,
      "outputs": [
        {
          "output_type": "stream",
          "name": "stdout",
          "text": [
            "[14  6 11 19]\n"
          ]
        }
      ]
    },
    {
      "cell_type": "markdown",
      "source": [
        "#**Problem 7**\n",
        "Answer the following questions about the accompanying data file.  \n",
        "\n",
        "What is the maximum yearly NYC consumption of water in millions of gallons per day?\n",
        "\n",
        "How many calendar years are represented within this data set? NumPy's shape command is one way to find\n",
        "out.  \n",
        "\n",
        "What is the mean and the standard deviation of the per capita daily water consumption?  \n",
        "\n",
        "What is the increase or decrease in population from year to year? Use NumPy's `diff` function to create an array\n",
        "of differences and save that to a variable called \"pop_diff\", then print that variable to the screen."
      ],
      "metadata": {
        "id": "rxHjSirwV7vH"
      }
    },
    {
      "cell_type": "code",
      "source": [
        "df = pd.read_csv('https://raw.githubusercontent.com/cindysame179/Data-Analytics-Work/main/Module6_Data.csv')\n",
        "df.head()\n",
        "max = np.amax(df['NYC Consumption(Million gallons per day)'])\n",
        "print(f'Maximum yearly NYC Consumption of water in millions of gallons per day: {max}')\n",
        "mean = np.mean(df['Per Capita(Gallons per person per day)'])\n",
        "stdev = np.std(df['Per Capita(Gallons per person per day)'])\n",
        "print(f'per capita daily water consumption mean: {mean} and standard deviation {stdev}')"
      ],
      "metadata": {
        "colab": {
          "base_uri": "https://localhost:8080/"
        },
        "id": "Mn5n_Mybkbog",
        "outputId": "e35cb43e-423c-4b9f-bb7d-8255d0219b32"
      },
      "execution_count": 24,
      "outputs": [
        {
          "output_type": "stream",
          "name": "stdout",
          "text": [
            "Maximum yearly NYC Consumption of water in millions of gallons per day: 1512.0\n",
            "per capita daily water consumption mean: 160.30769230769232 and standard deviation 31.51894330370624\n"
          ]
        }
      ]
    }
  ]
}