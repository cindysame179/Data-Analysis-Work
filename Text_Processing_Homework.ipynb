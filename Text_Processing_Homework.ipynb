{
  "nbformat": 4,
  "nbformat_minor": 0,
  "metadata": {
    "colab": {
      "name": "Text Processing Homework.ipynb",
      "provenance": []
    },
    "kernelspec": {
      "name": "python3",
      "display_name": "Python 3"
    },
    "language_info": {
      "name": "python"
    }
  },
  "cells": [
    {
      "cell_type": "code",
      "source": [
        "import re"
      ],
      "metadata": {
        "id": "egYsQXI-mrJ0"
      },
      "execution_count": null,
      "outputs": []
    },
    {
      "cell_type": "markdown",
      "source": [
        "#**Extract the numbers**"
      ],
      "metadata": {
        "id": "MWE9fj495Adn"
      }
    },
    {
      "cell_type": "code",
      "execution_count": null,
      "metadata": {
        "colab": {
          "base_uri": "https://localhost:8080/"
        },
        "id": "RQm_HpPhl6Vr",
        "outputId": "2d17dfcf-ed33-4236-854c-af3ae0b48591"
      },
      "outputs": [
        {
          "output_type": "execute_result",
          "data": {
            "text/plain": [
              "['5551239', '6365550113', '5556542', '5558904', '6365553226', '5553642']"
            ]
          },
          "metadata": {},
          "execution_count": 15
        }
      ],
      "source": [
        "text = \"555-1239Dr. Bernard Lander(636) 555-0113Hollingdorp, Donnatella555-6542Fitzgerald, F. Sco\\\n",
        "tt555 8904Rev. Martin Luther King636-555-3226Snodgrass, Theodore5553642Carlamina Scarfoni\"\n",
        "nonalphanum = re.compile('[\\W_]+')\n",
        "text2 = nonalphanum.sub('', text)\n",
        "re.findall('[0-9]+', text2)"
      ]
    },
    {
      "cell_type": "markdown",
      "source": [
        "#**Extract the names**"
      ],
      "metadata": {
        "id": "z4VtGWPp5ISp"
      }
    },
    {
      "cell_type": "code",
      "source": [
        "nonwdotcomma = re.compile('[^\\w\\., ]+')\n",
        "numspace = re.compile('[0-9] [0-9]')\n",
        "text3 = nonwdotcomma.sub('', text)\n",
        "text3 = numspace.sub('',text3)\n",
        "re.findall('[^0-9]+', text3)"
      ],
      "metadata": {
        "colab": {
          "base_uri": "https://localhost:8080/"
        },
        "id": "dgSEM9CtmqS_",
        "outputId": "249b01f6-8ddc-4f2c-e4a2-85132f8931ad"
      },
      "execution_count": null,
      "outputs": [
        {
          "output_type": "execute_result",
          "data": {
            "text/plain": [
              "['Dr. Bernard Lander',\n",
              " 'Hollingdorp, Donnatella',\n",
              " 'Fitzgerald, F. Scott',\n",
              " 'Rev. Martin Luther King',\n",
              " 'Snodgrass, Theodore',\n",
              " 'Carlamina Scarfoni']"
            ]
          },
          "metadata": {},
          "execution_count": 29
        }
      ]
    }
  ]
}